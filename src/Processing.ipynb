{
 "cells": [
  {
   "cell_type": "code",
   "execution_count": 431,
   "metadata": {},
   "outputs": [],
   "source": [
    "import pandas as pd\n",
    "import numpy as np"
   ]
  },
  {
   "cell_type": "code",
   "execution_count": 432,
   "metadata": {},
   "outputs": [
    {
     "data": {
      "text/html": [
       "<div>\n",
       "<style scoped>\n",
       "    .dataframe tbody tr th:only-of-type {\n",
       "        vertical-align: middle;\n",
       "    }\n",
       "\n",
       "    .dataframe tbody tr th {\n",
       "        vertical-align: top;\n",
       "    }\n",
       "\n",
       "    .dataframe thead th {\n",
       "        text-align: right;\n",
       "    }\n",
       "</style>\n",
       "<table border=\"1\" class=\"dataframe\">\n",
       "  <thead>\n",
       "    <tr style=\"text-align: right;\">\n",
       "      <th></th>\n",
       "      <th>questions</th>\n",
       "      <th>variables</th>\n",
       "      <th>variables2</th>\n",
       "    </tr>\n",
       "  </thead>\n",
       "  <tbody>\n",
       "    <tr>\n",
       "      <th>0</th>\n",
       "      <td>Are you self-employed?</td>\n",
       "      <td>self_employed</td>\n",
       "      <td>Are you self-employed?</td>\n",
       "    </tr>\n",
       "    <tr>\n",
       "      <th>1</th>\n",
       "      <td>How many employees does your company or organi...</td>\n",
       "      <td>num_employees</td>\n",
       "      <td>How many employees?</td>\n",
       "    </tr>\n",
       "  </tbody>\n",
       "</table>\n",
       "</div>"
      ],
      "text/plain": [
       "                                           questions      variables  \\\n",
       "0                             Are you self-employed?  self_employed   \n",
       "1  How many employees does your company or organi...  num_employees   \n",
       "\n",
       "               variables2  \n",
       "0  Are you self-employed?  \n",
       "1     How many employees?  "
      ]
     },
     "execution_count": 432,
     "metadata": {},
     "output_type": "execute_result"
    }
   ],
   "source": [
    "raw_data = pd.read_csv(\"../data/raw/mental-heath-in-tech-2016_20161114.csv\", encoding=\"utf-8\")\n",
    "feature_names = pd.read_csv(\"../data/processed/features_list.csv\", encoding=\"utf-8\")\n",
    "feature_names.head(2)"
   ]
  },
  {
   "cell_type": "code",
   "execution_count": 433,
   "metadata": {},
   "outputs": [],
   "source": [
    "old_names = list(feature_names[\"questions\"])"
   ]
  },
  {
   "cell_type": "code",
   "execution_count": 434,
   "metadata": {},
   "outputs": [
    {
     "ename": "KeyError",
     "evalue": "\"['Do you have medical coverage (private insurance or state-provided) which includes treatment of ¬†mental health issues?'] not in index\"",
     "output_type": "error",
     "traceback": [
      "\u001b[0;31m---------------------------------------------------------------------------\u001b[0m",
      "\u001b[0;31mKeyError\u001b[0m                                  Traceback (most recent call last)",
      "\u001b[0;32m<ipython-input-434-16e629c726a8>\u001b[0m in \u001b[0;36m<module>\u001b[0;34m\u001b[0m\n\u001b[0;32m----> 1\u001b[0;31m \u001b[0mraw_data\u001b[0m\u001b[0;34m[\u001b[0m\u001b[0mold_names\u001b[0m\u001b[0;34m]\u001b[0m\u001b[0;34m\u001b[0m\u001b[0;34m\u001b[0m\u001b[0m\n\u001b[0m",
      "\u001b[0;32m/opt/miniconda3/lib/python3.8/site-packages/pandas/core/frame.py\u001b[0m in \u001b[0;36m__getitem__\u001b[0;34m(self, key)\u001b[0m\n\u001b[1;32m   2804\u001b[0m             \u001b[0;32mif\u001b[0m \u001b[0mis_iterator\u001b[0m\u001b[0;34m(\u001b[0m\u001b[0mkey\u001b[0m\u001b[0;34m)\u001b[0m\u001b[0;34m:\u001b[0m\u001b[0;34m\u001b[0m\u001b[0;34m\u001b[0m\u001b[0m\n\u001b[1;32m   2805\u001b[0m                 \u001b[0mkey\u001b[0m \u001b[0;34m=\u001b[0m \u001b[0mlist\u001b[0m\u001b[0;34m(\u001b[0m\u001b[0mkey\u001b[0m\u001b[0;34m)\u001b[0m\u001b[0;34m\u001b[0m\u001b[0;34m\u001b[0m\u001b[0m\n\u001b[0;32m-> 2806\u001b[0;31m             \u001b[0mindexer\u001b[0m \u001b[0;34m=\u001b[0m \u001b[0mself\u001b[0m\u001b[0;34m.\u001b[0m\u001b[0mloc\u001b[0m\u001b[0;34m.\u001b[0m\u001b[0m_get_listlike_indexer\u001b[0m\u001b[0;34m(\u001b[0m\u001b[0mkey\u001b[0m\u001b[0;34m,\u001b[0m \u001b[0maxis\u001b[0m\u001b[0;34m=\u001b[0m\u001b[0;36m1\u001b[0m\u001b[0;34m,\u001b[0m \u001b[0mraise_missing\u001b[0m\u001b[0;34m=\u001b[0m\u001b[0;32mTrue\u001b[0m\u001b[0;34m)\u001b[0m\u001b[0;34m[\u001b[0m\u001b[0;36m1\u001b[0m\u001b[0;34m]\u001b[0m\u001b[0;34m\u001b[0m\u001b[0;34m\u001b[0m\u001b[0m\n\u001b[0m\u001b[1;32m   2807\u001b[0m \u001b[0;34m\u001b[0m\u001b[0m\n\u001b[1;32m   2808\u001b[0m         \u001b[0;31m# take() does not accept boolean indexers\u001b[0m\u001b[0;34m\u001b[0m\u001b[0;34m\u001b[0m\u001b[0;34m\u001b[0m\u001b[0m\n",
      "\u001b[0;32m/opt/miniconda3/lib/python3.8/site-packages/pandas/core/indexing.py\u001b[0m in \u001b[0;36m_get_listlike_indexer\u001b[0;34m(self, key, axis, raise_missing)\u001b[0m\n\u001b[1;32m   1550\u001b[0m             \u001b[0mkeyarr\u001b[0m\u001b[0;34m,\u001b[0m \u001b[0mindexer\u001b[0m\u001b[0;34m,\u001b[0m \u001b[0mnew_indexer\u001b[0m \u001b[0;34m=\u001b[0m \u001b[0max\u001b[0m\u001b[0;34m.\u001b[0m\u001b[0m_reindex_non_unique\u001b[0m\u001b[0;34m(\u001b[0m\u001b[0mkeyarr\u001b[0m\u001b[0;34m)\u001b[0m\u001b[0;34m\u001b[0m\u001b[0;34m\u001b[0m\u001b[0m\n\u001b[1;32m   1551\u001b[0m \u001b[0;34m\u001b[0m\u001b[0m\n\u001b[0;32m-> 1552\u001b[0;31m         self._validate_read_indexer(\n\u001b[0m\u001b[1;32m   1553\u001b[0m             \u001b[0mkeyarr\u001b[0m\u001b[0;34m,\u001b[0m \u001b[0mindexer\u001b[0m\u001b[0;34m,\u001b[0m \u001b[0mo\u001b[0m\u001b[0;34m.\u001b[0m\u001b[0m_get_axis_number\u001b[0m\u001b[0;34m(\u001b[0m\u001b[0maxis\u001b[0m\u001b[0;34m)\u001b[0m\u001b[0;34m,\u001b[0m \u001b[0mraise_missing\u001b[0m\u001b[0;34m=\u001b[0m\u001b[0mraise_missing\u001b[0m\u001b[0;34m\u001b[0m\u001b[0;34m\u001b[0m\u001b[0m\n\u001b[1;32m   1554\u001b[0m         )\n",
      "\u001b[0;32m/opt/miniconda3/lib/python3.8/site-packages/pandas/core/indexing.py\u001b[0m in \u001b[0;36m_validate_read_indexer\u001b[0;34m(self, key, indexer, axis, raise_missing)\u001b[0m\n\u001b[1;32m   1644\u001b[0m             \u001b[0;32mif\u001b[0m \u001b[0;32mnot\u001b[0m \u001b[0;34m(\u001b[0m\u001b[0mself\u001b[0m\u001b[0;34m.\u001b[0m\u001b[0mname\u001b[0m \u001b[0;34m==\u001b[0m \u001b[0;34m\"loc\"\u001b[0m \u001b[0;32mand\u001b[0m \u001b[0;32mnot\u001b[0m \u001b[0mraise_missing\u001b[0m\u001b[0;34m)\u001b[0m\u001b[0;34m:\u001b[0m\u001b[0;34m\u001b[0m\u001b[0;34m\u001b[0m\u001b[0m\n\u001b[1;32m   1645\u001b[0m                 \u001b[0mnot_found\u001b[0m \u001b[0;34m=\u001b[0m \u001b[0mlist\u001b[0m\u001b[0;34m(\u001b[0m\u001b[0mset\u001b[0m\u001b[0;34m(\u001b[0m\u001b[0mkey\u001b[0m\u001b[0;34m)\u001b[0m \u001b[0;34m-\u001b[0m \u001b[0mset\u001b[0m\u001b[0;34m(\u001b[0m\u001b[0max\u001b[0m\u001b[0;34m)\u001b[0m\u001b[0;34m)\u001b[0m\u001b[0;34m\u001b[0m\u001b[0;34m\u001b[0m\u001b[0m\n\u001b[0;32m-> 1646\u001b[0;31m                 \u001b[0;32mraise\u001b[0m \u001b[0mKeyError\u001b[0m\u001b[0;34m(\u001b[0m\u001b[0;34mf\"{not_found} not in index\"\u001b[0m\u001b[0;34m)\u001b[0m\u001b[0;34m\u001b[0m\u001b[0;34m\u001b[0m\u001b[0m\n\u001b[0m\u001b[1;32m   1647\u001b[0m \u001b[0;34m\u001b[0m\u001b[0m\n\u001b[1;32m   1648\u001b[0m             \u001b[0;31m# we skip the warning on Categorical/Interval\u001b[0m\u001b[0;34m\u001b[0m\u001b[0;34m\u001b[0m\u001b[0;34m\u001b[0m\u001b[0m\n",
      "\u001b[0;31mKeyError\u001b[0m: \"['Do you have medical coverage (private insurance or state-provided) which includes treatment of ¬†mental health issues?'] not in index\""
     ]
    }
   ],
   "source": [
    "raw_data[old_names]"
   ]
  },
  {
   "cell_type": "code",
   "execution_count": 435,
   "metadata": {},
   "outputs": [
    {
     "name": "stdout",
     "output_type": "stream",
     "text": [
      "16\n"
     ]
    }
   ],
   "source": [
    "for idx, col in enumerate(raw_data.columns):\n",
    "    if col.startswith(\"Do you have medical coverage (private insurance or state-provided) which includes treatment of\"):\n",
    "        print(idx)"
   ]
  },
  {
   "cell_type": "code",
   "execution_count": 436,
   "metadata": {},
   "outputs": [
    {
     "name": "stdout",
     "output_type": "stream",
     "text": [
      "27\n"
     ]
    }
   ],
   "source": [
    "for idx, col in enumerate(old_names):\n",
    "    if col.startswith(\"Do you have medical coverage (private insurance or state-provided) which includes treatment of\"):\n",
    "        print(idx)"
   ]
  },
  {
   "cell_type": "code",
   "execution_count": 437,
   "metadata": {},
   "outputs": [
    {
     "data": {
      "text/plain": [
       "'Do you have medical coverage (private insurance or state-provided) which includes treatment of ¬†mental health issues?'"
      ]
     },
     "execution_count": 437,
     "metadata": {},
     "output_type": "execute_result"
    }
   ],
   "source": [
    "old_names[27]"
   ]
  },
  {
   "cell_type": "code",
   "execution_count": 438,
   "metadata": {},
   "outputs": [
    {
     "data": {
      "text/plain": [
       "'Do you have medical coverage (private insurance or state-provided) which includes treatment of \\xa0mental health issues?'"
      ]
     },
     "execution_count": 438,
     "metadata": {},
     "output_type": "execute_result"
    }
   ],
   "source": [
    "raw_data.columns[16]"
   ]
  },
  {
   "cell_type": "code",
   "execution_count": 439,
   "metadata": {},
   "outputs": [],
   "source": [
    "old_names[27] = raw_data.columns[16]"
   ]
  },
  {
   "cell_type": "code",
   "execution_count": 440,
   "metadata": {},
   "outputs": [
    {
     "data": {
      "text/plain": [
       "'Do you have medical coverage (private insurance or state-provided) which includes treatment of \\xa0mental health issues?'"
      ]
     },
     "execution_count": 440,
     "metadata": {},
     "output_type": "execute_result"
    }
   ],
   "source": [
    "old_names[27]"
   ]
  },
  {
   "cell_type": "code",
   "execution_count": 441,
   "metadata": {},
   "outputs": [],
   "source": [
    "raw_data_col = raw_data[old_names]"
   ]
  },
  {
   "cell_type": "code",
   "execution_count": 442,
   "metadata": {},
   "outputs": [],
   "source": [
    "feature_map = {old_names[i]:feature_names.iloc[i, 1] for i in range(len(old_names))}"
   ]
  },
  {
   "cell_type": "code",
   "execution_count": 443,
   "metadata": {},
   "outputs": [],
   "source": [
    "feature_map2 = {old_names[i]:feature_names.iloc[i, 2] for i in range(len(old_names))}"
   ]
  },
  {
   "cell_type": "code",
   "execution_count": 444,
   "metadata": {},
   "outputs": [
    {
     "data": {
      "text/plain": [
       "{'Are you self-employed?': 'self_employed',\n",
       " 'How many employees does your company or organization have?': 'num_employees',\n",
       " 'Is your employer primarily a tech company/organization?': 'tech_org',\n",
       " 'Does your employer provide mental health benefits as part of healthcare coverage?': 'mental_health_benefits_healthcare',\n",
       " 'Does your employer offer resources to learn more about mental health concerns and options for seeking help?': 'mental_health_resources',\n",
       " 'If a mental health issue prompted you to request a medical leave from work, asking for that leave would be:': 'mental_health_leave',\n",
       " 'Do you think that discussing a mental health disorder with your employer would have negative consequences?': 'mental_disorder_discuss',\n",
       " 'Do you think that discussing a physical health issue with your employer would have negative consequences?': 'health_disorder_discuss',\n",
       " 'Would you feel comfortable discussing a mental health disorder with your coworkers?': 'discuss_coworker',\n",
       " 'Would you feel comfortable discussing a mental health disorder with your direct supervisor(s)?': 'discuss_supervisor',\n",
       " 'Do you know local or online resources to seek help for a mental health disorder?': 'online_resources',\n",
       " 'Do you believe your productivity is ever affected by a mental health issue?': 'productivity',\n",
       " 'If yes, what percentage of your work time (time performing primary or secondary job functions) is affected by a mental health issue?': 'productivity_percent',\n",
       " 'Do you currently have a mental health disorder?': 'have_mental_helth_disorder',\n",
       " 'If yes, what condition(s) have you been diagnosed with?': 'mental_health_diagnosis',\n",
       " 'Have you ever sought treatment for a mental health issue from a mental health professional?': 'treatment',\n",
       " 'If you have a mental health issue, do you feel that it interferes with your work when being treated effectively?': 'work_interfere_treated',\n",
       " 'If you have a mental health issue, do you feel that it interferes with your work when NOT being treated effectively?': 'work_interfere_not_treated',\n",
       " 'What is your age?': 'age',\n",
       " 'What is your gender?': 'gender',\n",
       " 'What country do you live in?': 'country',\n",
       " 'Do you work remotely?': 'is_remote',\n",
       " 'Is your primary role within your company related to tech/IT?': 'tech_role',\n",
       " 'Do you know the options for mental health care available under your employer-provided coverage?': 'mental_health_benefits_employer',\n",
       " 'Has your employer ever formally discussed mental health (for example, as part of a wellness campaign or other official communication)?': 'formal_discuss',\n",
       " 'Is your anonymity protected if you choose to take advantage of mental health or substance abuse treatment resources provided by your employer?': 'anonymity',\n",
       " 'Do you feel that your employer takes mental health as seriously as physical health?': 'mental_vs_physical',\n",
       " 'Do you have medical coverage (private insurance or state-provided) which includes treatment of \\xa0mental health issues?': 'medical_coverage',\n",
       " 'Do you feel that being identified as a person with a mental health issue would hurt your career?': 'career_effect',\n",
       " 'Do you have a family history of mental illness?': 'family_history'}"
      ]
     },
     "execution_count": 444,
     "metadata": {},
     "output_type": "execute_result"
    }
   ],
   "source": [
    "feature_map"
   ]
  },
  {
   "cell_type": "code",
   "execution_count": 445,
   "metadata": {},
   "outputs": [
    {
     "data": {
      "text/plain": [
       "{'Are you self-employed?': 'Are you self-employed?',\n",
       " 'How many employees does your company or organization have?': 'How many employees?',\n",
       " 'Is your employer primarily a tech company/organization?': 'Is employer primarily a tech company?',\n",
       " 'Does your employer provide mental health benefits as part of healthcare coverage?': 'Are mental health benefits provided as part of healthcare?',\n",
       " 'Does your employer offer resources to learn more about mental health concerns and options for seeking help?': 'Do employer provide resources related to mental health concerns?',\n",
       " 'If a mental health issue prompted you to request a medical leave from work, asking for that leave would be:': 'What reason would you provide for asking a leave for mental health issue? ',\n",
       " 'Do you think that discussing a mental health disorder with your employer would have negative consequences?': 'Does discussion with employer about mental health issues have negative consequence?',\n",
       " 'Do you think that discussing a physical health issue with your employer would have negative consequences?': 'Does discussion with employer about physical health issues have negative consequence?',\n",
       " 'Would you feel comfortable discussing a mental health disorder with your coworkers?': 'Feel comfortable discussing mental health issues with co-worker?',\n",
       " 'Would you feel comfortable discussing a mental health disorder with your direct supervisor(s)?': 'Feel comfortable discussing mental health issues with direct supervisor?',\n",
       " 'Do you know local or online resources to seek help for a mental health disorder?': 'Aware of local/online resources to seek help for mental health issue?',\n",
       " 'Do you believe your productivity is ever affected by a mental health issue?': 'Is the productivity affected by mental health issue?',\n",
       " 'If yes, what percentage of your work time (time performing primary or secondary job functions) is affected by a mental health issue?': 'What percentage of time is affected by mental health issue?',\n",
       " 'Do you currently have a mental health disorder?': 'Do you currently have a mental health disorder?',\n",
       " 'If yes, what condition(s) have you been diagnosed with?': 'What condition(s) of mental health issue have you been diagnosed with?',\n",
       " 'Have you ever sought treatment for a mental health issue from a mental health professional?': 'Have you sought help from professional for mental health issue?',\n",
       " 'If you have a mental health issue, do you feel that it interferes with your work when being treated effectively?': 'Do you feel mental health issue interferes with work when being treated?',\n",
       " 'If you have a mental health issue, do you feel that it interferes with your work when NOT being treated effectively?': 'Do you feel mental health issue interferes with work when not being treated?',\n",
       " 'What is your age?': 'What is your age?',\n",
       " 'What is your gender?': 'What is your gender?',\n",
       " 'What country do you live in?': 'What country do you live in?',\n",
       " 'Do you work remotely?': 'Do you work remotely?',\n",
       " 'Is your primary role within your company related to tech/IT?': 'Is your primary role within your company related to tech/IT?',\n",
       " 'Do you know the options for mental health care available under your employer-provided coverage?': 'Do you know options for mental health care under employer-provided coverage?  ',\n",
       " 'Has your employer ever formally discussed mental health (for example, as part of a wellness campaign or other official communication)?': 'Has your employer ever formally discussed mental health?',\n",
       " 'Is your anonymity protected if you choose to take advantage of mental health or substance abuse treatment resources provided by your employer?': 'Is anonymity protected for treatment of mental health issues under employer benefits?',\n",
       " 'Do you feel that your employer takes mental health as seriously as physical health?': 'Do employer treat mental health and physical health equally?',\n",
       " 'Do you have medical coverage (private insurance or state-provided) which includes treatment of \\xa0mental health issues?': 'Do you have private/state medical coverage for treatment of mental health issues?',\n",
       " 'Do you feel that being identified as a person with a mental health issue would hurt your career?': 'Does being identified as a person with mental health issue would hurt your career?',\n",
       " 'Do you have a family history of mental illness?': 'Do you have a family history of mental illness?'}"
      ]
     },
     "execution_count": 445,
     "metadata": {},
     "output_type": "execute_result"
    }
   ],
   "source": [
    "feature_map2"
   ]
  },
  {
   "cell_type": "code",
   "execution_count": 446,
   "metadata": {},
   "outputs": [],
   "source": [
    "clean_data = raw_data_col.rename(columns=feature_map)"
   ]
  },
  {
   "cell_type": "code",
   "execution_count": 447,
   "metadata": {},
   "outputs": [],
   "source": [
    "clean_data_questions = raw_data_col.rename(columns=feature_map2)"
   ]
  },
  {
   "cell_type": "code",
   "execution_count": 448,
   "metadata": {},
   "outputs": [
    {
     "data": {
      "text/html": [
       "<div>\n",
       "<style scoped>\n",
       "    .dataframe tbody tr th:only-of-type {\n",
       "        vertical-align: middle;\n",
       "    }\n",
       "\n",
       "    .dataframe tbody tr th {\n",
       "        vertical-align: top;\n",
       "    }\n",
       "\n",
       "    .dataframe thead th {\n",
       "        text-align: right;\n",
       "    }\n",
       "</style>\n",
       "<table border=\"1\" class=\"dataframe\">\n",
       "  <thead>\n",
       "    <tr style=\"text-align: right;\">\n",
       "      <th></th>\n",
       "      <th>self_employed</th>\n",
       "      <th>num_employees</th>\n",
       "      <th>tech_org</th>\n",
       "      <th>mental_health_benefits_healthcare</th>\n",
       "      <th>mental_health_resources</th>\n",
       "      <th>mental_health_leave</th>\n",
       "      <th>mental_disorder_discuss</th>\n",
       "      <th>health_disorder_discuss</th>\n",
       "      <th>discuss_coworker</th>\n",
       "      <th>discuss_supervisor</th>\n",
       "      <th>...</th>\n",
       "      <th>country</th>\n",
       "      <th>is_remote</th>\n",
       "      <th>tech_role</th>\n",
       "      <th>mental_health_benefits_employer</th>\n",
       "      <th>formal_discuss</th>\n",
       "      <th>anonymity</th>\n",
       "      <th>mental_vs_physical</th>\n",
       "      <th>medical_coverage</th>\n",
       "      <th>career_effect</th>\n",
       "      <th>family_history</th>\n",
       "    </tr>\n",
       "  </thead>\n",
       "  <tbody>\n",
       "    <tr>\n",
       "      <th>0</th>\n",
       "      <td>0</td>\n",
       "      <td>26-100</td>\n",
       "      <td>1.0</td>\n",
       "      <td>Not eligible for coverage / N/A</td>\n",
       "      <td>No</td>\n",
       "      <td>Very easy</td>\n",
       "      <td>No</td>\n",
       "      <td>No</td>\n",
       "      <td>Maybe</td>\n",
       "      <td>Yes</td>\n",
       "      <td>...</td>\n",
       "      <td>United Kingdom</td>\n",
       "      <td>Sometimes</td>\n",
       "      <td>NaN</td>\n",
       "      <td>NaN</td>\n",
       "      <td>No</td>\n",
       "      <td>I don't know</td>\n",
       "      <td>I don't know</td>\n",
       "      <td>NaN</td>\n",
       "      <td>Maybe</td>\n",
       "      <td>No</td>\n",
       "    </tr>\n",
       "    <tr>\n",
       "      <th>1</th>\n",
       "      <td>0</td>\n",
       "      <td>6-25</td>\n",
       "      <td>1.0</td>\n",
       "      <td>No</td>\n",
       "      <td>Yes</td>\n",
       "      <td>Somewhat easy</td>\n",
       "      <td>No</td>\n",
       "      <td>No</td>\n",
       "      <td>Maybe</td>\n",
       "      <td>Yes</td>\n",
       "      <td>...</td>\n",
       "      <td>United States of America</td>\n",
       "      <td>Never</td>\n",
       "      <td>NaN</td>\n",
       "      <td>Yes</td>\n",
       "      <td>Yes</td>\n",
       "      <td>Yes</td>\n",
       "      <td>Yes</td>\n",
       "      <td>NaN</td>\n",
       "      <td>No, I don't think it would</td>\n",
       "      <td>Yes</td>\n",
       "    </tr>\n",
       "  </tbody>\n",
       "</table>\n",
       "<p>2 rows × 30 columns</p>\n",
       "</div>"
      ],
      "text/plain": [
       "   self_employed num_employees  tech_org mental_health_benefits_healthcare  \\\n",
       "0              0        26-100       1.0   Not eligible for coverage / N/A   \n",
       "1              0          6-25       1.0                                No   \n",
       "\n",
       "  mental_health_resources mental_health_leave mental_disorder_discuss  \\\n",
       "0                      No           Very easy                      No   \n",
       "1                     Yes       Somewhat easy                      No   \n",
       "\n",
       "  health_disorder_discuss discuss_coworker discuss_supervisor  ...  \\\n",
       "0                      No            Maybe                Yes  ...   \n",
       "1                      No            Maybe                Yes  ...   \n",
       "\n",
       "                    country  is_remote tech_role  \\\n",
       "0            United Kingdom  Sometimes       NaN   \n",
       "1  United States of America      Never       NaN   \n",
       "\n",
       "  mental_health_benefits_employer formal_discuss     anonymity  \\\n",
       "0                             NaN             No  I don't know   \n",
       "1                             Yes            Yes           Yes   \n",
       "\n",
       "  mental_vs_physical medical_coverage               career_effect  \\\n",
       "0       I don't know              NaN                       Maybe   \n",
       "1                Yes              NaN  No, I don't think it would   \n",
       "\n",
       "  family_history  \n",
       "0             No  \n",
       "1            Yes  \n",
       "\n",
       "[2 rows x 30 columns]"
      ]
     },
     "execution_count": 448,
     "metadata": {},
     "output_type": "execute_result"
    }
   ],
   "source": [
    "clean_data.head(2)"
   ]
  },
  {
   "cell_type": "code",
   "execution_count": 449,
   "metadata": {},
   "outputs": [
    {
     "data": {
      "text/html": [
       "<div>\n",
       "<style scoped>\n",
       "    .dataframe tbody tr th:only-of-type {\n",
       "        vertical-align: middle;\n",
       "    }\n",
       "\n",
       "    .dataframe tbody tr th {\n",
       "        vertical-align: top;\n",
       "    }\n",
       "\n",
       "    .dataframe thead th {\n",
       "        text-align: right;\n",
       "    }\n",
       "</style>\n",
       "<table border=\"1\" class=\"dataframe\">\n",
       "  <thead>\n",
       "    <tr style=\"text-align: right;\">\n",
       "      <th></th>\n",
       "      <th>Are you self-employed?</th>\n",
       "      <th>How many employees?</th>\n",
       "      <th>Is employer primarily a tech company?</th>\n",
       "      <th>Are mental health benefits provided as part of healthcare?</th>\n",
       "      <th>Do employer provide resources related to mental health concerns?</th>\n",
       "      <th>What reason would you provide for asking a leave for mental health issue?</th>\n",
       "      <th>Does discussion with employer about mental health issues have negative consequence?</th>\n",
       "      <th>Does discussion with employer about physical health issues have negative consequence?</th>\n",
       "      <th>Feel comfortable discussing mental health issues with co-worker?</th>\n",
       "      <th>Feel comfortable discussing mental health issues with direct supervisor?</th>\n",
       "      <th>...</th>\n",
       "      <th>What country do you live in?</th>\n",
       "      <th>Do you work remotely?</th>\n",
       "      <th>Is your primary role within your company related to tech/IT?</th>\n",
       "      <th>Do you know options for mental health care under employer-provided coverage?</th>\n",
       "      <th>Has your employer ever formally discussed mental health?</th>\n",
       "      <th>Is anonymity protected for treatment of mental health issues under employer benefits?</th>\n",
       "      <th>Do employer treat mental health and physical health equally?</th>\n",
       "      <th>Do you have private/state medical coverage for treatment of mental health issues?</th>\n",
       "      <th>Does being identified as a person with mental health issue would hurt your career?</th>\n",
       "      <th>Do you have a family history of mental illness?</th>\n",
       "    </tr>\n",
       "  </thead>\n",
       "  <tbody>\n",
       "    <tr>\n",
       "      <th>0</th>\n",
       "      <td>0</td>\n",
       "      <td>26-100</td>\n",
       "      <td>1.0</td>\n",
       "      <td>Not eligible for coverage / N/A</td>\n",
       "      <td>No</td>\n",
       "      <td>Very easy</td>\n",
       "      <td>No</td>\n",
       "      <td>No</td>\n",
       "      <td>Maybe</td>\n",
       "      <td>Yes</td>\n",
       "      <td>...</td>\n",
       "      <td>United Kingdom</td>\n",
       "      <td>Sometimes</td>\n",
       "      <td>NaN</td>\n",
       "      <td>NaN</td>\n",
       "      <td>No</td>\n",
       "      <td>I don't know</td>\n",
       "      <td>I don't know</td>\n",
       "      <td>NaN</td>\n",
       "      <td>Maybe</td>\n",
       "      <td>No</td>\n",
       "    </tr>\n",
       "    <tr>\n",
       "      <th>1</th>\n",
       "      <td>0</td>\n",
       "      <td>6-25</td>\n",
       "      <td>1.0</td>\n",
       "      <td>No</td>\n",
       "      <td>Yes</td>\n",
       "      <td>Somewhat easy</td>\n",
       "      <td>No</td>\n",
       "      <td>No</td>\n",
       "      <td>Maybe</td>\n",
       "      <td>Yes</td>\n",
       "      <td>...</td>\n",
       "      <td>United States of America</td>\n",
       "      <td>Never</td>\n",
       "      <td>NaN</td>\n",
       "      <td>Yes</td>\n",
       "      <td>Yes</td>\n",
       "      <td>Yes</td>\n",
       "      <td>Yes</td>\n",
       "      <td>NaN</td>\n",
       "      <td>No, I don't think it would</td>\n",
       "      <td>Yes</td>\n",
       "    </tr>\n",
       "  </tbody>\n",
       "</table>\n",
       "<p>2 rows × 30 columns</p>\n",
       "</div>"
      ],
      "text/plain": [
       "   Are you self-employed? How many employees?  \\\n",
       "0                       0              26-100   \n",
       "1                       0                6-25   \n",
       "\n",
       "   Is employer primarily a tech company?  \\\n",
       "0                                    1.0   \n",
       "1                                    1.0   \n",
       "\n",
       "  Are mental health benefits provided as part of healthcare?  \\\n",
       "0                    Not eligible for coverage / N/A           \n",
       "1                                                 No           \n",
       "\n",
       "  Do employer provide resources related to mental health concerns?  \\\n",
       "0                                                 No                 \n",
       "1                                                Yes                 \n",
       "\n",
       "  What reason would you provide for asking a leave for mental health issue?   \\\n",
       "0                                          Very easy                           \n",
       "1                                      Somewhat easy                           \n",
       "\n",
       "  Does discussion with employer about mental health issues have negative consequence?  \\\n",
       "0                                                 No                                    \n",
       "1                                                 No                                    \n",
       "\n",
       "  Does discussion with employer about physical health issues have negative consequence?  \\\n",
       "0                                                 No                                      \n",
       "1                                                 No                                      \n",
       "\n",
       "  Feel comfortable discussing mental health issues with co-worker?  \\\n",
       "0                                              Maybe                 \n",
       "1                                              Maybe                 \n",
       "\n",
       "  Feel comfortable discussing mental health issues with direct supervisor?  \\\n",
       "0                                                Yes                         \n",
       "1                                                Yes                         \n",
       "\n",
       "   ... What country do you live in? Do you work remotely?  \\\n",
       "0  ...               United Kingdom             Sometimes   \n",
       "1  ...     United States of America                 Never   \n",
       "\n",
       "  Is your primary role within your company related to tech/IT?  \\\n",
       "0                                                NaN             \n",
       "1                                                NaN             \n",
       "\n",
       "  Do you know options for mental health care under employer-provided coverage?    \\\n",
       "0                                                NaN                               \n",
       "1                                                Yes                               \n",
       "\n",
       "  Has your employer ever formally discussed mental health?  \\\n",
       "0                                                 No         \n",
       "1                                                Yes         \n",
       "\n",
       "   Is anonymity protected for treatment of mental health issues under employer benefits?  \\\n",
       "0                                       I don't know                                       \n",
       "1                                                Yes                                       \n",
       "\n",
       "  Do employer treat mental health and physical health equally?  \\\n",
       "0                                       I don't know             \n",
       "1                                                Yes             \n",
       "\n",
       "  Do you have private/state medical coverage for treatment of mental health issues?  \\\n",
       "0                                                NaN                                  \n",
       "1                                                NaN                                  \n",
       "\n",
       "   Does being identified as a person with mental health issue would hurt your career?  \\\n",
       "0                                              Maybe                                    \n",
       "1                         No, I don't think it would                                    \n",
       "\n",
       "  Do you have a family history of mental illness?  \n",
       "0                                              No  \n",
       "1                                             Yes  \n",
       "\n",
       "[2 rows x 30 columns]"
      ]
     },
     "execution_count": 449,
     "metadata": {},
     "output_type": "execute_result"
    }
   ],
   "source": [
    "clean_data_questions.head(2)"
   ]
  },
  {
   "cell_type": "code",
   "execution_count": 450,
   "metadata": {},
   "outputs": [
    {
     "data": {
      "text/plain": [
       "(1433, 30)"
      ]
     },
     "execution_count": 450,
     "metadata": {},
     "output_type": "execute_result"
    }
   ],
   "source": [
    "clean_data.shape"
   ]
  },
  {
   "cell_type": "code",
   "execution_count": 451,
   "metadata": {},
   "outputs": [
    {
     "data": {
      "text/plain": [
       "(1433, 30)"
      ]
     },
     "execution_count": 451,
     "metadata": {},
     "output_type": "execute_result"
    }
   ],
   "source": [
    "clean_data_questions.shape"
   ]
  },
  {
   "cell_type": "markdown",
   "metadata": {},
   "source": [
    "## Clean up `gender` column:\n",
    "- all similiar to male as male\n",
    "- all similiar to female as female\n",
    "- all others as other\n",
    "- only 3 'nulls', for simplicity to other"
   ]
  },
  {
   "cell_type": "code",
   "execution_count": 452,
   "metadata": {},
   "outputs": [
    {
     "data": {
      "text/plain": [
       "array(['Male', 'male', 'Male ', 'Female', 'M', 'female', 'm',\n",
       "       'I identify as female.', 'female ', 'Bigender', 'non-binary',\n",
       "       'Female assigned at birth ', 'F', 'Woman', 'man', 'fm', 'f',\n",
       "       'Cis female ', 'Transitioned, M2F', 'Genderfluid (born female)',\n",
       "       'Other/Transfeminine', 'Female or Multi-Gender Femme', 'Female ',\n",
       "       'woman', 'female/woman', 'Cis male', 'Male.', 'Androgynous',\n",
       "       'male 9:1 female, roughly', nan, 'Male (cis)', 'Other',\n",
       "       'nb masculine', 'Cisgender Female', 'Man', 'Sex is male',\n",
       "       'none of your business', 'genderqueer', 'cis male', 'Human',\n",
       "       'Genderfluid', 'Enby', 'Malr', 'genderqueer woman', 'mtf', 'Queer',\n",
       "       'Agender', 'Dude', 'Fluid',\n",
       "       \"I'm a man why didn't you make this a drop down question. You should of asked sex? And I would of answered yes please. Seriously how much text can this take? \",\n",
       "       'mail', 'M|', 'Male/genderqueer', 'fem', 'Nonbinary', 'male ',\n",
       "       'human', 'Female (props for making this a freeform field, though)',\n",
       "       ' Female', 'Unicorn', 'Cis Male', 'Male (trans, FtM)', 'Cis-woman',\n",
       "       'Genderqueer', 'cisdude', 'Genderflux demi-girl',\n",
       "       'female-bodied; no feelings about gender', 'cis man', 'AFAB',\n",
       "       'Transgender woman', 'MALE'], dtype=object)"
      ]
     },
     "execution_count": 452,
     "metadata": {},
     "output_type": "execute_result"
    }
   ],
   "source": [
    "clean_data['gender'].unique()"
   ]
  },
  {
   "cell_type": "code",
   "execution_count": 453,
   "metadata": {},
   "outputs": [
    {
     "name": "stderr",
     "output_type": "stream",
     "text": [
      "/opt/miniconda3/lib/python3.8/site-packages/pandas/core/strings.py:1954: UserWarning: This pattern has match groups. To actually get the groups, use str.extract.\n",
      "  return func(self, *args, **kwargs)\n"
     ]
    },
    {
     "data": {
      "text/plain": [
       "array(['Male', 'Female', 'Other'], dtype=object)"
      ]
     },
     "execution_count": 453,
     "metadata": {},
     "output_type": "execute_result"
    }
   ],
   "source": [
    "clean_data.loc[clean_data['gender'].str.contains(r'(^\\s*[Ff]emale)', na=False),'gender'] = \"Female\"\n",
    "clean_data.loc[clean_data['gender'].str.contains(r'(^[Ww]oman)', na=False),'gender'] = \"Female\"\n",
    "clean_data.loc[clean_data['gender'].str.contains(r'(^[Ff]$)', na=False),'gender'] = \"Female\"\n",
    "clean_data.loc[clean_data['gender'].str.contains(r'(^[Mm]ale)', na=False),'gender'] = \"Male\"\n",
    "clean_data.loc[clean_data['gender'].str.contains(r'(^[Mm]ALE)', na=False),'gender'] = \"Male\"\n",
    "clean_data.loc[clean_data['gender'].str.contains(r'(^[Mm]$)', na=False),'gender'] = \"Male\"\n",
    "clean_data.loc[clean_data['gender'].str.contains(r'(^[Mm]an)', na=False),'gender'] = \"Male\"\n",
    "clean_data.loc[clean_data['gender'].str.contains(r'(^[Mm]ail)', na=False),'gender'] = \"Male\"\n",
    "clean_data.loc[clean_data['gender'].str.contains(r'(^nan)', na=False),'gender'] = np.NaN\n",
    "clean_data.loc[clean_data['gender'].str.contains('M\\|', na=False),'gender'] = \"Male\"\n",
    "\n",
    "\n",
    "#all remaining as `Other`\n",
    "clean_data.loc[clean_data['gender'].str.contains(r'[^Male|Female]', na=False),'gender'] = \"Other\"\n",
    "clean_data.loc[clean_data['gender'].isnull(),'gender'] = \"Other\"\n",
    "#check output contains 3 possible values\n",
    "clean_data['gender'].unique()"
   ]
  },
  {
   "cell_type": "code",
   "execution_count": 457,
   "metadata": {},
   "outputs": [
    {
     "name": "stderr",
     "output_type": "stream",
     "text": [
      "/opt/miniconda3/lib/python3.8/site-packages/pandas/core/strings.py:1954: UserWarning: This pattern has match groups. To actually get the groups, use str.extract.\n",
      "  return func(self, *args, **kwargs)\n"
     ]
    },
    {
     "data": {
      "text/plain": [
       "array(['Male', 'Female', 'Other'], dtype=object)"
      ]
     },
     "execution_count": 457,
     "metadata": {},
     "output_type": "execute_result"
    }
   ],
   "source": [
    "\n",
    "clean_data_questions.loc[clean_data_questions['What is your gender?'].str.contains(r'(^\\s*[Ff]emale)', na=False),'What is your gender?'] = \"Female\"\n",
    "clean_data_questions.loc[clean_data_questions['What is your gender?'].str.contains(r'(^[Ww]oman)', na=False),'What is your gender?'] = \"Female\"\n",
    "clean_data_questions.loc[clean_data_questions['What is your gender?'].str.contains(r'(^[Ff]$)', na=False),'What is your gender?'] = \"Female\"\n",
    "clean_data_questions.loc[clean_data_questions['What is your gender?'].str.contains(r'(^[Mm]ale)', na=False),'What is your gender?'] = \"Male\"\n",
    "clean_data_questions.loc[clean_data_questions['What is your gender?'].str.contains(r'(^[Mm]ALE)', na=False),'What is your gender?'] = \"Male\"\n",
    "clean_data_questions.loc[clean_data_questions['What is your gender?'].str.contains(r'(^[Mm]$)', na=False),'What is your gender?'] = \"Male\"\n",
    "clean_data_questions.loc[clean_data_questions['What is your gender?'].str.contains(r'(^[Mm]an)', na=False),'What is your gender?'] = \"Male\"\n",
    "clean_data_questions.loc[clean_data_questions['What is your gender?'].str.contains(r'(^[Mm]ail)', na=False),'What is your gender?'] = \"Male\"\n",
    "clean_data_questions.loc[clean_data_questions['What is your gender?'].str.contains(r'(^nan)', na=False),'What is your gender?'] = np.NaN\n",
    "clean_data_questions.loc[clean_data_questions['What is your gender?'].str.contains('M\\|', na=False),'What is your gender?'] = \"Male\"\n",
    "\n",
    "#all remaining as `Other`\n",
    "clean_data_questions.loc[clean_data_questions['What is your gender?'].str.contains(r'[^Male|Female]', na=False),'What is your gender?'] = \"Other\"\n",
    "clean_data_questions.loc[clean_data_questions['What is your gender?'].isnull(),'What is your gender?'] = \"Other\"\n",
    "#check output contains 3 possible values\n",
    "clean_data_questions['What is your gender?'].unique()"
   ]
  },
  {
   "cell_type": "code",
   "execution_count": 458,
   "metadata": {},
   "outputs": [],
   "source": [
    "clean_data.to_csv(\"../data/processed/mental_health_clean.csv\", index=0)"
   ]
  },
  {
   "cell_type": "code",
   "execution_count": 459,
   "metadata": {},
   "outputs": [],
   "source": [
    "clean_data_questions.to_csv(\"../data/processed/mental_health_clean2.csv\", index=0)"
   ]
  },
  {
   "cell_type": "code",
   "execution_count": 460,
   "metadata": {},
   "outputs": [],
   "source": [
    "data_check2 = pd.read_csv(\"../data/processed/mental_health_clean2.csv\")"
   ]
  },
  {
   "cell_type": "code",
   "execution_count": 461,
   "metadata": {},
   "outputs": [],
   "source": [
    "data_check = pd.read_csv(\"../data/processed/mental_health_clean.csv\")"
   ]
  },
  {
   "cell_type": "code",
   "execution_count": 462,
   "metadata": {},
   "outputs": [
    {
     "data": {
      "text/plain": [
       "(1433, 30)"
      ]
     },
     "execution_count": 462,
     "metadata": {},
     "output_type": "execute_result"
    }
   ],
   "source": [
    "data_check.shape"
   ]
  },
  {
   "cell_type": "code",
   "execution_count": 463,
   "metadata": {},
   "outputs": [
    {
     "data": {
      "text/plain": [
       "(1433, 30)"
      ]
     },
     "execution_count": 463,
     "metadata": {},
     "output_type": "execute_result"
    }
   ],
   "source": [
    "data_check2.shape"
   ]
  }
 ],
 "metadata": {
  "kernelspec": {
   "display_name": "Python 3",
   "language": "python",
   "name": "python3"
  },
  "language_info": {
   "codemirror_mode": {
    "name": "ipython",
    "version": 3
   },
   "file_extension": ".py",
   "mimetype": "text/x-python",
   "name": "python",
   "nbconvert_exporter": "python",
   "pygments_lexer": "ipython3",
   "version": "3.8.3"
  }
 },
 "nbformat": 4,
 "nbformat_minor": 4
}
