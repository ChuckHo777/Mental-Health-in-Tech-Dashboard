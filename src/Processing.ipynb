{
 "cells": [
  {
   "cell_type": "code",
   "execution_count": 253,
   "metadata": {},
   "outputs": [],
   "source": [
    "import pandas as pd\n",
    "import numpy as np"
   ]
  },
  {
   "cell_type": "code",
   "execution_count": 254,
   "metadata": {},
   "outputs": [
    {
     "data": {
      "text/html": [
       "<div>\n",
       "<style scoped>\n",
       "    .dataframe tbody tr th:only-of-type {\n",
       "        vertical-align: middle;\n",
       "    }\n",
       "\n",
       "    .dataframe tbody tr th {\n",
       "        vertical-align: top;\n",
       "    }\n",
       "\n",
       "    .dataframe thead th {\n",
       "        text-align: right;\n",
       "    }\n",
       "</style>\n",
       "<table border=\"1\" class=\"dataframe\">\n",
       "  <thead>\n",
       "    <tr style=\"text-align: right;\">\n",
       "      <th></th>\n",
       "      <th>questions</th>\n",
       "      <th>variables</th>\n",
       "    </tr>\n",
       "  </thead>\n",
       "  <tbody>\n",
       "    <tr>\n",
       "      <th>0</th>\n",
       "      <td>Are you self-employed?</td>\n",
       "      <td>self_employed</td>\n",
       "    </tr>\n",
       "    <tr>\n",
       "      <th>1</th>\n",
       "      <td>How many employees does your company or organi...</td>\n",
       "      <td>num_employees</td>\n",
       "    </tr>\n",
       "  </tbody>\n",
       "</table>\n",
       "</div>"
      ],
      "text/plain": [
       "                                           questions      variables\n",
       "0                             Are you self-employed?  self_employed\n",
       "1  How many employees does your company or organi...  num_employees"
      ]
     },
     "execution_count": 254,
     "metadata": {},
     "output_type": "execute_result"
    }
   ],
   "source": [
    "raw_data = pd.read_csv(\"../data/raw/mental-heath-in-tech-2016_20161114.csv\", encoding=\"utf-8\")\n",
    "feature_names = pd.read_csv(\"../data/processed/features_list.csv\", encoding=\"utf-8\")\n",
    "feature_names.head(2)"
   ]
  },
  {
   "cell_type": "code",
   "execution_count": 255,
   "metadata": {},
   "outputs": [],
   "source": [
    "old_names = list(feature_names[\"questions\"])"
   ]
  },
  {
   "cell_type": "code",
   "execution_count": 256,
   "metadata": {},
   "outputs": [
    {
     "ename": "KeyError",
     "evalue": "\"['Do you have medical coverage (private insurance or state-provided) which includes treatment of ¬†mental health issues?'] not in index\"",
     "output_type": "error",
     "traceback": [
      "\u001b[0;31m---------------------------------------------------------------------------\u001b[0m",
      "\u001b[0;31mKeyError\u001b[0m                                  Traceback (most recent call last)",
      "\u001b[0;32m<ipython-input-256-16e629c726a8>\u001b[0m in \u001b[0;36m<module>\u001b[0;34m\u001b[0m\n\u001b[0;32m----> 1\u001b[0;31m \u001b[0mraw_data\u001b[0m\u001b[0;34m[\u001b[0m\u001b[0mold_names\u001b[0m\u001b[0;34m]\u001b[0m\u001b[0;34m\u001b[0m\u001b[0;34m\u001b[0m\u001b[0m\n\u001b[0m",
      "\u001b[0;32m/opt/miniconda3/lib/python3.8/site-packages/pandas/core/frame.py\u001b[0m in \u001b[0;36m__getitem__\u001b[0;34m(self, key)\u001b[0m\n\u001b[1;32m   2804\u001b[0m             \u001b[0;32mif\u001b[0m \u001b[0mis_iterator\u001b[0m\u001b[0;34m(\u001b[0m\u001b[0mkey\u001b[0m\u001b[0;34m)\u001b[0m\u001b[0;34m:\u001b[0m\u001b[0;34m\u001b[0m\u001b[0;34m\u001b[0m\u001b[0m\n\u001b[1;32m   2805\u001b[0m                 \u001b[0mkey\u001b[0m \u001b[0;34m=\u001b[0m \u001b[0mlist\u001b[0m\u001b[0;34m(\u001b[0m\u001b[0mkey\u001b[0m\u001b[0;34m)\u001b[0m\u001b[0;34m\u001b[0m\u001b[0;34m\u001b[0m\u001b[0m\n\u001b[0;32m-> 2806\u001b[0;31m             \u001b[0mindexer\u001b[0m \u001b[0;34m=\u001b[0m \u001b[0mself\u001b[0m\u001b[0;34m.\u001b[0m\u001b[0mloc\u001b[0m\u001b[0;34m.\u001b[0m\u001b[0m_get_listlike_indexer\u001b[0m\u001b[0;34m(\u001b[0m\u001b[0mkey\u001b[0m\u001b[0;34m,\u001b[0m \u001b[0maxis\u001b[0m\u001b[0;34m=\u001b[0m\u001b[0;36m1\u001b[0m\u001b[0;34m,\u001b[0m \u001b[0mraise_missing\u001b[0m\u001b[0;34m=\u001b[0m\u001b[0;32mTrue\u001b[0m\u001b[0;34m)\u001b[0m\u001b[0;34m[\u001b[0m\u001b[0;36m1\u001b[0m\u001b[0;34m]\u001b[0m\u001b[0;34m\u001b[0m\u001b[0;34m\u001b[0m\u001b[0m\n\u001b[0m\u001b[1;32m   2807\u001b[0m \u001b[0;34m\u001b[0m\u001b[0m\n\u001b[1;32m   2808\u001b[0m         \u001b[0;31m# take() does not accept boolean indexers\u001b[0m\u001b[0;34m\u001b[0m\u001b[0;34m\u001b[0m\u001b[0;34m\u001b[0m\u001b[0m\n",
      "\u001b[0;32m/opt/miniconda3/lib/python3.8/site-packages/pandas/core/indexing.py\u001b[0m in \u001b[0;36m_get_listlike_indexer\u001b[0;34m(self, key, axis, raise_missing)\u001b[0m\n\u001b[1;32m   1550\u001b[0m             \u001b[0mkeyarr\u001b[0m\u001b[0;34m,\u001b[0m \u001b[0mindexer\u001b[0m\u001b[0;34m,\u001b[0m \u001b[0mnew_indexer\u001b[0m \u001b[0;34m=\u001b[0m \u001b[0max\u001b[0m\u001b[0;34m.\u001b[0m\u001b[0m_reindex_non_unique\u001b[0m\u001b[0;34m(\u001b[0m\u001b[0mkeyarr\u001b[0m\u001b[0;34m)\u001b[0m\u001b[0;34m\u001b[0m\u001b[0;34m\u001b[0m\u001b[0m\n\u001b[1;32m   1551\u001b[0m \u001b[0;34m\u001b[0m\u001b[0m\n\u001b[0;32m-> 1552\u001b[0;31m         self._validate_read_indexer(\n\u001b[0m\u001b[1;32m   1553\u001b[0m             \u001b[0mkeyarr\u001b[0m\u001b[0;34m,\u001b[0m \u001b[0mindexer\u001b[0m\u001b[0;34m,\u001b[0m \u001b[0mo\u001b[0m\u001b[0;34m.\u001b[0m\u001b[0m_get_axis_number\u001b[0m\u001b[0;34m(\u001b[0m\u001b[0maxis\u001b[0m\u001b[0;34m)\u001b[0m\u001b[0;34m,\u001b[0m \u001b[0mraise_missing\u001b[0m\u001b[0;34m=\u001b[0m\u001b[0mraise_missing\u001b[0m\u001b[0;34m\u001b[0m\u001b[0;34m\u001b[0m\u001b[0m\n\u001b[1;32m   1554\u001b[0m         )\n",
      "\u001b[0;32m/opt/miniconda3/lib/python3.8/site-packages/pandas/core/indexing.py\u001b[0m in \u001b[0;36m_validate_read_indexer\u001b[0;34m(self, key, indexer, axis, raise_missing)\u001b[0m\n\u001b[1;32m   1644\u001b[0m             \u001b[0;32mif\u001b[0m \u001b[0;32mnot\u001b[0m \u001b[0;34m(\u001b[0m\u001b[0mself\u001b[0m\u001b[0;34m.\u001b[0m\u001b[0mname\u001b[0m \u001b[0;34m==\u001b[0m \u001b[0;34m\"loc\"\u001b[0m \u001b[0;32mand\u001b[0m \u001b[0;32mnot\u001b[0m \u001b[0mraise_missing\u001b[0m\u001b[0;34m)\u001b[0m\u001b[0;34m:\u001b[0m\u001b[0;34m\u001b[0m\u001b[0;34m\u001b[0m\u001b[0m\n\u001b[1;32m   1645\u001b[0m                 \u001b[0mnot_found\u001b[0m \u001b[0;34m=\u001b[0m \u001b[0mlist\u001b[0m\u001b[0;34m(\u001b[0m\u001b[0mset\u001b[0m\u001b[0;34m(\u001b[0m\u001b[0mkey\u001b[0m\u001b[0;34m)\u001b[0m \u001b[0;34m-\u001b[0m \u001b[0mset\u001b[0m\u001b[0;34m(\u001b[0m\u001b[0max\u001b[0m\u001b[0;34m)\u001b[0m\u001b[0;34m)\u001b[0m\u001b[0;34m\u001b[0m\u001b[0;34m\u001b[0m\u001b[0m\n\u001b[0;32m-> 1646\u001b[0;31m                 \u001b[0;32mraise\u001b[0m \u001b[0mKeyError\u001b[0m\u001b[0;34m(\u001b[0m\u001b[0;34mf\"{not_found} not in index\"\u001b[0m\u001b[0;34m)\u001b[0m\u001b[0;34m\u001b[0m\u001b[0;34m\u001b[0m\u001b[0m\n\u001b[0m\u001b[1;32m   1647\u001b[0m \u001b[0;34m\u001b[0m\u001b[0m\n\u001b[1;32m   1648\u001b[0m             \u001b[0;31m# we skip the warning on Categorical/Interval\u001b[0m\u001b[0;34m\u001b[0m\u001b[0;34m\u001b[0m\u001b[0;34m\u001b[0m\u001b[0m\n",
      "\u001b[0;31mKeyError\u001b[0m: \"['Do you have medical coverage (private insurance or state-provided) which includes treatment of ¬†mental health issues?'] not in index\""
     ]
    }
   ],
   "source": [
    "raw_data[old_names]"
   ]
  },
  {
   "cell_type": "code",
   "execution_count": 257,
   "metadata": {},
   "outputs": [
    {
     "name": "stdout",
     "output_type": "stream",
     "text": [
      "16\n"
     ]
    }
   ],
   "source": [
    "for idx, col in enumerate(raw_data.columns):\n",
    "    if col.startswith(\"Do you have medical coverage (private insurance or state-provided) which includes treatment of\"):\n",
    "        print(idx)"
   ]
  },
  {
   "cell_type": "code",
   "execution_count": 258,
   "metadata": {},
   "outputs": [
    {
     "name": "stdout",
     "output_type": "stream",
     "text": [
      "27\n"
     ]
    }
   ],
   "source": [
    "for idx, col in enumerate(old_names):\n",
    "    if col.startswith(\"Do you have medical coverage (private insurance or state-provided) which includes treatment of\"):\n",
    "        print(idx)"
   ]
  },
  {
   "cell_type": "code",
   "execution_count": 259,
   "metadata": {},
   "outputs": [
    {
     "data": {
      "text/plain": [
       "'Do you have medical coverage (private insurance or state-provided) which includes treatment of ¬†mental health issues?'"
      ]
     },
     "execution_count": 259,
     "metadata": {},
     "output_type": "execute_result"
    }
   ],
   "source": [
    "old_names[27]"
   ]
  },
  {
   "cell_type": "code",
   "execution_count": 260,
   "metadata": {},
   "outputs": [
    {
     "data": {
      "text/plain": [
       "'Do you have medical coverage (private insurance or state-provided) which includes treatment of \\xa0mental health issues?'"
      ]
     },
     "execution_count": 260,
     "metadata": {},
     "output_type": "execute_result"
    }
   ],
   "source": [
    "raw_data.columns[16]"
   ]
  },
  {
   "cell_type": "code",
   "execution_count": 261,
   "metadata": {},
   "outputs": [],
   "source": [
    "old_names[27] = raw_data.columns[16]"
   ]
  },
  {
   "cell_type": "code",
   "execution_count": 262,
   "metadata": {},
   "outputs": [
    {
     "data": {
      "text/plain": [
       "'Do you have medical coverage (private insurance or state-provided) which includes treatment of \\xa0mental health issues?'"
      ]
     },
     "execution_count": 262,
     "metadata": {},
     "output_type": "execute_result"
    }
   ],
   "source": [
    "old_names[27]"
   ]
  },
  {
   "cell_type": "code",
   "execution_count": 263,
   "metadata": {},
   "outputs": [],
   "source": [
    "raw_data_col = raw_data[old_names]"
   ]
  },
  {
   "cell_type": "code",
   "execution_count": 264,
   "metadata": {},
   "outputs": [],
   "source": [
    "feature_map = {old_names[i]:feature_names.iloc[i, 1] for i in range(len(old_names))}"
   ]
  },
  {
   "cell_type": "code",
   "execution_count": 265,
   "metadata": {},
   "outputs": [
    {
     "data": {
      "text/plain": [
       "{'Are you self-employed?': 'self_employed',\n",
       " 'How many employees does your company or organization have?': 'num_employees',\n",
       " 'Is your employer primarily a tech company/organization?': 'tech_org',\n",
       " 'Does your employer provide mental health benefits as part of healthcare coverage?': 'mental_health_benefits_healthcare',\n",
       " 'Does your employer offer resources to learn more about mental health concerns and options for seeking help?': 'mental_health_resources',\n",
       " 'If a mental health issue prompted you to request a medical leave from work, asking for that leave would be:': 'mental_health_leave',\n",
       " 'Do you think that discussing a mental health disorder with your employer would have negative consequences?': 'mental_disorder_discuss',\n",
       " 'Do you think that discussing a physical health issue with your employer would have negative consequences?': 'health_disorder_discuss',\n",
       " 'Would you feel comfortable discussing a mental health disorder with your coworkers?': 'discuss_coworker',\n",
       " 'Would you feel comfortable discussing a mental health disorder with your direct supervisor(s)?': 'discuss_supervisor',\n",
       " 'Do you know local or online resources to seek help for a mental health disorder?': 'online_resources',\n",
       " 'Do you believe your productivity is ever affected by a mental health issue?': 'productivity',\n",
       " 'If yes, what percentage of your work time (time performing primary or secondary job functions) is affected by a mental health issue?': 'productivity_percent',\n",
       " 'Do you currently have a mental health disorder?': 'have_mental_helth_disorder',\n",
       " 'If yes, what condition(s) have you been diagnosed with?': 'mental_health_diagnosis',\n",
       " 'Have you ever sought treatment for a mental health issue from a mental health professional?': 'treatment',\n",
       " 'If you have a mental health issue, do you feel that it interferes with your work when being treated effectively?': 'work_interfere_treated',\n",
       " 'If you have a mental health issue, do you feel that it interferes with your work when NOT being treated effectively?': 'work_interfere_not_treated',\n",
       " 'What is your age?': 'age',\n",
       " 'What is your gender?': 'gender',\n",
       " 'What country do you live in?': 'country',\n",
       " 'Do you work remotely?': 'is_remote',\n",
       " 'Is your primary role within your company related to tech/IT?': 'tech_role',\n",
       " 'Do you know the options for mental health care available under your employer-provided coverage?': 'mental_health_benefits_employer',\n",
       " 'Has your employer ever formally discussed mental health (for example, as part of a wellness campaign or other official communication)?': 'formal_discuss',\n",
       " 'Is your anonymity protected if you choose to take advantage of mental health or substance abuse treatment resources provided by your employer?': 'anonymity',\n",
       " 'Do you feel that your employer takes mental health as seriously as physical health?': 'mental_vs_physical',\n",
       " 'Do you have medical coverage (private insurance or state-provided) which includes treatment of \\xa0mental health issues?': 'medical_coverage',\n",
       " 'Do you feel that being identified as a person with a mental health issue would hurt your career?': 'career_effect',\n",
       " 'Do you have a family history of mental illness?': 'family_history'}"
      ]
     },
     "execution_count": 265,
     "metadata": {},
     "output_type": "execute_result"
    }
   ],
   "source": [
    "feature_map"
   ]
  },
  {
   "cell_type": "code",
   "execution_count": 266,
   "metadata": {},
   "outputs": [],
   "source": [
    "clean_data = raw_data_col.rename(columns=feature_map)"
   ]
  },
  {
   "cell_type": "code",
   "execution_count": 267,
   "metadata": {},
   "outputs": [
    {
     "data": {
      "text/html": [
       "<div>\n",
       "<style scoped>\n",
       "    .dataframe tbody tr th:only-of-type {\n",
       "        vertical-align: middle;\n",
       "    }\n",
       "\n",
       "    .dataframe tbody tr th {\n",
       "        vertical-align: top;\n",
       "    }\n",
       "\n",
       "    .dataframe thead th {\n",
       "        text-align: right;\n",
       "    }\n",
       "</style>\n",
       "<table border=\"1\" class=\"dataframe\">\n",
       "  <thead>\n",
       "    <tr style=\"text-align: right;\">\n",
       "      <th></th>\n",
       "      <th>self_employed</th>\n",
       "      <th>num_employees</th>\n",
       "      <th>tech_org</th>\n",
       "      <th>mental_health_benefits_healthcare</th>\n",
       "      <th>mental_health_resources</th>\n",
       "      <th>mental_health_leave</th>\n",
       "      <th>mental_disorder_discuss</th>\n",
       "      <th>health_disorder_discuss</th>\n",
       "      <th>discuss_coworker</th>\n",
       "      <th>discuss_supervisor</th>\n",
       "      <th>...</th>\n",
       "      <th>country</th>\n",
       "      <th>is_remote</th>\n",
       "      <th>tech_role</th>\n",
       "      <th>mental_health_benefits_employer</th>\n",
       "      <th>formal_discuss</th>\n",
       "      <th>anonymity</th>\n",
       "      <th>mental_vs_physical</th>\n",
       "      <th>medical_coverage</th>\n",
       "      <th>career_effect</th>\n",
       "      <th>family_history</th>\n",
       "    </tr>\n",
       "  </thead>\n",
       "  <tbody>\n",
       "    <tr>\n",
       "      <th>0</th>\n",
       "      <td>0</td>\n",
       "      <td>26-100</td>\n",
       "      <td>1.0</td>\n",
       "      <td>Not eligible for coverage / N/A</td>\n",
       "      <td>No</td>\n",
       "      <td>Very easy</td>\n",
       "      <td>No</td>\n",
       "      <td>No</td>\n",
       "      <td>Maybe</td>\n",
       "      <td>Yes</td>\n",
       "      <td>...</td>\n",
       "      <td>United Kingdom</td>\n",
       "      <td>Sometimes</td>\n",
       "      <td>NaN</td>\n",
       "      <td>NaN</td>\n",
       "      <td>No</td>\n",
       "      <td>I don't know</td>\n",
       "      <td>I don't know</td>\n",
       "      <td>NaN</td>\n",
       "      <td>Maybe</td>\n",
       "      <td>No</td>\n",
       "    </tr>\n",
       "    <tr>\n",
       "      <th>1</th>\n",
       "      <td>0</td>\n",
       "      <td>6-25</td>\n",
       "      <td>1.0</td>\n",
       "      <td>No</td>\n",
       "      <td>Yes</td>\n",
       "      <td>Somewhat easy</td>\n",
       "      <td>No</td>\n",
       "      <td>No</td>\n",
       "      <td>Maybe</td>\n",
       "      <td>Yes</td>\n",
       "      <td>...</td>\n",
       "      <td>United States of America</td>\n",
       "      <td>Never</td>\n",
       "      <td>NaN</td>\n",
       "      <td>Yes</td>\n",
       "      <td>Yes</td>\n",
       "      <td>Yes</td>\n",
       "      <td>Yes</td>\n",
       "      <td>NaN</td>\n",
       "      <td>No, I don't think it would</td>\n",
       "      <td>Yes</td>\n",
       "    </tr>\n",
       "  </tbody>\n",
       "</table>\n",
       "<p>2 rows × 30 columns</p>\n",
       "</div>"
      ],
      "text/plain": [
       "   self_employed num_employees  tech_org mental_health_benefits_healthcare  \\\n",
       "0              0        26-100       1.0   Not eligible for coverage / N/A   \n",
       "1              0          6-25       1.0                                No   \n",
       "\n",
       "  mental_health_resources mental_health_leave mental_disorder_discuss  \\\n",
       "0                      No           Very easy                      No   \n",
       "1                     Yes       Somewhat easy                      No   \n",
       "\n",
       "  health_disorder_discuss discuss_coworker discuss_supervisor  ...  \\\n",
       "0                      No            Maybe                Yes  ...   \n",
       "1                      No            Maybe                Yes  ...   \n",
       "\n",
       "                    country  is_remote tech_role  \\\n",
       "0            United Kingdom  Sometimes       NaN   \n",
       "1  United States of America      Never       NaN   \n",
       "\n",
       "  mental_health_benefits_employer formal_discuss     anonymity  \\\n",
       "0                             NaN             No  I don't know   \n",
       "1                             Yes            Yes           Yes   \n",
       "\n",
       "  mental_vs_physical medical_coverage               career_effect  \\\n",
       "0       I don't know              NaN                       Maybe   \n",
       "1                Yes              NaN  No, I don't think it would   \n",
       "\n",
       "  family_history  \n",
       "0             No  \n",
       "1            Yes  \n",
       "\n",
       "[2 rows x 30 columns]"
      ]
     },
     "execution_count": 267,
     "metadata": {},
     "output_type": "execute_result"
    }
   ],
   "source": [
    "clean_data.head(2)"
   ]
  },
  {
   "cell_type": "code",
   "execution_count": 268,
   "metadata": {},
   "outputs": [
    {
     "data": {
      "text/plain": [
       "(1433, 30)"
      ]
     },
     "execution_count": 268,
     "metadata": {},
     "output_type": "execute_result"
    }
   ],
   "source": [
    "clean_data.shape"
   ]
  },
  {
   "cell_type": "markdown",
   "metadata": {},
   "source": [
    "## Clean up `gender` column:\n",
    "- all similiar to male as male\n",
    "- all similiar to female as female\n",
    "- all others as other"
   ]
  },
  {
   "cell_type": "code",
   "execution_count": 269,
   "metadata": {},
   "outputs": [
    {
     "data": {
      "text/plain": [
       "array(['Male', 'male', 'Male ', 'Female', 'M', 'female', 'm',\n",
       "       'I identify as female.', 'female ', 'Bigender', 'non-binary',\n",
       "       'Female assigned at birth ', 'F', 'Woman', 'man', 'fm', 'f',\n",
       "       'Cis female ', 'Transitioned, M2F', 'Genderfluid (born female)',\n",
       "       'Other/Transfeminine', 'Female or Multi-Gender Femme', 'Female ',\n",
       "       'woman', 'female/woman', 'Cis male', 'Male.', 'Androgynous',\n",
       "       'male 9:1 female, roughly', nan, 'Male (cis)', 'Other',\n",
       "       'nb masculine', 'Cisgender Female', 'Man', 'Sex is male',\n",
       "       'none of your business', 'genderqueer', 'cis male', 'Human',\n",
       "       'Genderfluid', 'Enby', 'Malr', 'genderqueer woman', 'mtf', 'Queer',\n",
       "       'Agender', 'Dude', 'Fluid',\n",
       "       \"I'm a man why didn't you make this a drop down question. You should of asked sex? And I would of answered yes please. Seriously how much text can this take? \",\n",
       "       'mail', 'M|', 'Male/genderqueer', 'fem', 'Nonbinary', 'male ',\n",
       "       'human', 'Female (props for making this a freeform field, though)',\n",
       "       ' Female', 'Unicorn', 'Cis Male', 'Male (trans, FtM)', 'Cis-woman',\n",
       "       'Genderqueer', 'cisdude', 'Genderflux demi-girl',\n",
       "       'female-bodied; no feelings about gender', 'cis man', 'AFAB',\n",
       "       'Transgender woman', 'MALE'], dtype=object)"
      ]
     },
     "execution_count": 269,
     "metadata": {},
     "output_type": "execute_result"
    }
   ],
   "source": [
    "clean_data['gender'].unique()"
   ]
  },
  {
   "cell_type": "code",
   "execution_count": 270,
   "metadata": {},
   "outputs": [
    {
     "name": "stderr",
     "output_type": "stream",
     "text": [
      "/opt/miniconda3/lib/python3.8/site-packages/pandas/core/strings.py:1954: UserWarning: This pattern has match groups. To actually get the groups, use str.extract.\n",
      "  return func(self, *args, **kwargs)\n"
     ]
    },
    {
     "data": {
      "text/plain": [
       "array(['Male', 'Female', 'Other', nan], dtype=object)"
      ]
     },
     "execution_count": 270,
     "metadata": {},
     "output_type": "execute_result"
    }
   ],
   "source": [
    "clean_data.loc[clean_data['gender'].str.contains(r'(^\\s*[Ff]emale)', na=False),'gender'] = \"Female\"\n",
    "clean_data.loc[clean_data['gender'].str.contains(r'(^[Ww]oman)', na=False),'gender'] = \"Female\"\n",
    "clean_data.loc[clean_data['gender'].str.contains(r'(^[Ff]$)', na=False),'gender'] = \"Female\"\n",
    "clean_data.loc[clean_data['gender'].str.contains(r'(^[Mm]ale)', na=False),'gender'] = \"Male\"\n",
    "clean_data.loc[clean_data['gender'].str.contains(r'(^[Mm]ALE)', na=False),'gender'] = \"Male\"\n",
    "clean_data.loc[clean_data['gender'].str.contains(r'(^[Mm]$)', na=False),'gender'] = \"Male\"\n",
    "clean_data.loc[clean_data['gender'].str.contains(r'(^[Mm]an)', na=False),'gender'] = \"Male\"\n",
    "clean_data.loc[clean_data['gender'].str.contains(r'(^[Mm]ail)', na=False),'gender'] = \"Male\"\n",
    "clean_data.loc[clean_data['gender'].str.contains(r'(^nan)', na=False),'gender'] = np.NaN\n",
    "clean_data.loc[clean_data['gender'].str.contains('M\\|', na=False),'gender'] = \"Male\"\n",
    "\n",
    "#all remaining as `Other`\n",
    "clean_data.loc[clean_data['gender'].str.contains(r'[^Male|Female]', na=False),'gender'] = \"Other\"\n",
    "#check output contains 3 possible values\n",
    "clean_data['gender'].unique()"
   ]
  },
  {
   "cell_type": "code",
   "execution_count": 21,
   "metadata": {},
   "outputs": [],
   "source": [
    "clean_data.to_csv(\"../data/processed/mental_health_clean.csv\", index=0)"
   ]
  },
  {
   "cell_type": "code",
   "execution_count": 22,
   "metadata": {},
   "outputs": [],
   "source": [
    "data_check = pd.read_csv(\"../data/processed/mental_health_clean.csv\")"
   ]
  },
  {
   "cell_type": "code",
   "execution_count": 26,
   "metadata": {},
   "outputs": [
    {
     "data": {
      "text/plain": [
       "(1433, 30)"
      ]
     },
     "execution_count": 26,
     "metadata": {},
     "output_type": "execute_result"
    }
   ],
   "source": [
    "data_check.shape"
   ]
  }
 ],
 "metadata": {
  "kernelspec": {
   "display_name": "Python 3",
   "language": "python",
   "name": "python3"
  },
  "language_info": {
   "codemirror_mode": {
    "name": "ipython",
    "version": 3
   },
   "file_extension": ".py",
   "mimetype": "text/x-python",
   "name": "python",
   "nbconvert_exporter": "python",
   "pygments_lexer": "ipython3",
   "version": "3.8.3"
  }
 },
 "nbformat": 4,
 "nbformat_minor": 4
}
